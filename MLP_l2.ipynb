{
  "cells": [
    {
      "cell_type": "code",
      "execution_count": null,
      "metadata": {
        "id": "uLNjhPKuZMmk"
      },
      "outputs": [],
      "source": [
        "import numpy as np\n",
        "import pandas as pd\n",
        "from sklearn.datasets import make_classification\n",
        "from sklearn.model_selection import train_test_split\n",
        "import math\n",
        "from sklearn.metrics import accuracy_score\n",
        "import random\n",
        "import statistics\n",
        "import skimage.io\n",
        "import skimage.color\n"
      ]
    },
    {
      "cell_type": "code",
      "execution_count": null,
      "metadata": {
        "id": "JerU5LX3cBd4"
      },
      "outputs": [],
      "source": [
        "def transform(x):\n",
        "  x=(x-np.mean(x,axis=0))/np.std(x,axis=0)\n",
        "  #print(x.shape)\n",
        "  return x"
      ]
    },
    {
      "cell_type": "code",
      "execution_count": null,
      "metadata": {
        "colab": {
          "base_uri": "https://localhost:8080/"
        },
        "id": "akapk-xXZujF",
        "outputId": "1b5a4f77-369a-4394-ce02-8ad6f80bc027"
      },
      "outputs": [
        {
          "name": "stdout",
          "output_type": "stream",
          "text": [
            "(4708, 28, 28)\n"
          ]
        },
        {
          "name": "stderr",
          "output_type": "stream",
          "text": [
            "/usr/local/lib/python3.7/dist-packages/ipykernel_launcher.py:14: FutureWarning: The behavior of rgb2gray will change in scikit-image 0.19. Currently, rgb2gray allows 2D grayscale image to be passed as inputs and leaves them unmodified as outputs. Starting from version 0.19, 2D arrays will be treated as 1D images with 3 channels.\n",
            "  \n",
            "/usr/local/lib/python3.7/dist-packages/ipykernel_launcher.py:16: FutureWarning: The behavior of rgb2gray will change in scikit-image 0.19. Currently, rgb2gray allows 2D grayscale image to be passed as inputs and leaves them unmodified as outputs. Starting from version 0.19, 2D arrays will be treated as 1D images with 3 channels.\n",
            "  app.launch_new_instance()\n",
            "/usr/local/lib/python3.7/dist-packages/ipykernel_launcher.py:18: FutureWarning: The behavior of rgb2gray will change in scikit-image 0.19. Currently, rgb2gray allows 2D grayscale image to be passed as inputs and leaves them unmodified as outputs. Starting from version 0.19, 2D arrays will be treated as 1D images with 3 channels.\n"
          ]
        }
      ],
      "source": [
        "# X, y = make_classification(n_samples=50000, n_features=20, n_informative=10, n_redundant=5,\n",
        "#                            n_classes=2, weights=[0.7], class_sep=0.6, random_state=15)\n",
        "b = np.load('/content/drive/MyDrive/pneumoniamnist.npz')\n",
        "train_images=b['train_images']\n",
        "val_images=b['val_images']\n",
        "test_images=b['test_images']\n",
        "Y_train=b['train_labels']\n",
        "Y_test=b['test_labels']\n",
        "Y_val=b['val_labels']\n",
        "train_image=[]\n",
        "test_image=[]\n",
        "val_image=[]\n",
        "for i in range(len(train_images)):\n",
        "  train_image.append(skimage.color.rgb2gray(train_images[i]))\n",
        "for i in range(len(test_images)):\n",
        "  test_image.append(skimage.color.rgb2gray(test_images[i]))\n",
        "for i in range(len(val_images)):\n",
        "  val_image.append(skimage.color.rgb2gray(val_images[i]))\n",
        "train_image=np.array(train_image)\n",
        "test_image=np.array(test_image)\n",
        "val_image=np.array(val_image)\n",
        "print(train_image.shape) \n",
        "X_train= train_image.reshape((train_images.shape[0],784))\n",
        "X_test= test_image.reshape((test_images.shape[0],784))\n",
        "X_val= val_image.reshape((val_images.shape[0],784))\n",
        "X_train=transform(X_train)\n",
        "X_val=transform(X_val)\n",
        "X_test=transform(X_test)\n",
        "# train_data=np.hstack((train_images,X_train))\n",
        "# test_data=np.hstack((test_images,X_test))\n",
        "# val_data=np.hstack((val_images,X_val))\n",
        "X_train = np.hstack((X_train,np.ones(X_train.shape[0]).reshape((X_train.shape[0],1))))\n",
        "X_test = np.hstack((X_test,np.ones(X_test.shape[0]).reshape((X_test.shape[0],1))))\n",
        "X_val = np.hstack((X_val,np.ones(X_val.shape[0]).reshape((X_val.shape[0],1))))"
      ]
    },
    {
      "cell_type": "code",
      "execution_count": null,
      "metadata": {
        "id": "uB2C2UvAtv7R"
      },
      "outputs": [],
      "source": []
    },
    {
      "cell_type": "code",
      "execution_count": null,
      "metadata": {
        "id": "PrfgtYoCcIMj"
      },
      "outputs": [],
      "source": [
        "# def sigmoid(z):\n",
        "#   if z < 0:\n",
        "#     return 1 - 1/(1 + math.exp(z))\n",
        "#   else:\n",
        "#     return 1/(1 + math.exp(-z))\n"
      ]
    },
    {
      "cell_type": "code",
      "execution_count": null,
      "metadata": {
        "id": "uiBk52YXCJQY"
      },
      "outputs": [],
      "source": [
        "def sigmoidp(z):\n",
        "  return 1/(1 + np.exp(-z))\n",
        "def sigmoidn(z):\n",
        "  return 1 - 1/(1 + np.exp(z))\n"
      ]
    },
    {
      "cell_type": "code",
      "execution_count": null,
      "metadata": {
        "id": "41evEnSICJQc"
      },
      "outputs": [],
      "source": [
        "def sigmoid(z):\n",
        "  z[np.where(z>=0)]=sigmoidp(z[np.where(z>=0)])\n",
        "  z[np.where(z<0)]=sigmoidn(z[np.where(z<0)])\n",
        "  return z\n"
      ]
    },
    {
      "cell_type": "code",
      "execution_count": null,
      "metadata": {
        "id": "pSxYNR06gcEJ"
      },
      "outputs": [],
      "source": [
        "def grad_sigmoid(z):\n",
        "  return sigmoid(z)*(1-sigmoid(z))"
      ]
    },
    {
      "cell_type": "code",
      "execution_count": null,
      "metadata": {
        "id": "PmE7j4d_ZCT7"
      },
      "outputs": [],
      "source": [
        "def predict_proba(w,x,l):\n",
        "  ypred=[]\n",
        "  for i in range(len(x)):\n",
        "    ypred.append(forward_prop(x[i],w,l)[2][1])\n",
        "  return ypred"
      ]
    },
    {
      "cell_type": "code",
      "execution_count": null,
      "metadata": {
        "id": "JXmdImEhYSd9"
      },
      "outputs": [],
      "source": [
        "def logloss(y_true,y_pred):  #cross entropy loss\n",
        "  loss=np.sum(y_true*(np.log10(y_pred))+((np.ones_like(y_true)-y_true)*np.log10(np.ones_like(y_pred)-y_pred)))\n",
        "  loss=-loss/len(y_true)\n",
        "  return loss\n"
      ]
    },
    {
      "cell_type": "code",
      "execution_count": null,
      "metadata": {
        "id": "TmQZxzYvcvS0"
      },
      "outputs": [],
      "source": [
        "def forward_prop(X,w,l):\n",
        "  x=X\n",
        "  layer_inputs=[]\n",
        "  layer_inputs.append(x)\n",
        "  for i in range(1,l): #l is no. of layers \n",
        "    x1=np.dot(w[i-1].T,x) # add one to each x\n",
        "    # for j in range(len(x1)):\n",
        "    #   x1[j]=sigmoid(x1[j])\n",
        "    x1=sigmoid(x1)\n",
        "    #x1=transform(x1)\n",
        "    layer_inputs.append(x1)\n",
        "    x=x1\n",
        "  return layer_inputs\n",
        "  \n",
        "\n"
      ]
    },
    {
      "cell_type": "code",
      "execution_count": null,
      "metadata": {
        "id": "ZD8Mj21MgC9Y"
      },
      "outputs": [],
      "source": [
        "def backward_prop(layer_inputs,w,Y):\n",
        "  #last layer\n",
        "  n=len(layer_inputs)-1\n",
        "  w_new=w.copy()\n",
        "  l=layer_inputs[-1]\n",
        "  l1=layer_inputs[-2]\n",
        "  W=w[-1]\n",
        "  # k=(l-Y)*l*(1-l)\n",
        "  k=l-Y\n",
        "  # print(k.shape)\n",
        "  delta=k\n",
        "  dj_w=np.zeros_like(W)\n",
        "  m,n1=W.shape\n",
        "  # for i in range(0,m):\n",
        "  #   for j in range(0,n1):\n",
        "  #     # print(k[j])\n",
        "  #     dj_w[i][j]=k[j]*l1[i]+W[i][j]\n",
        "  l1_n=np.reshape(l1,(m,1))\n",
        "  k_n=np.reshape(k,(n1,1))\n",
        "  # dj_w=np.dot(l1_n,k_n.T)+W #L2 regularizer\n",
        "  k=W.copy()\n",
        "  k[k>0]=1\n",
        "  k[k<0]=-1\n",
        "  dj_w=np.dot(l1_n,k_n.T)+k #L1 regularizer\n",
        "  lambda1=0.001\n",
        "  W=W-(lambda1*dj_w)\n",
        "  w_new[-1]=W\n",
        "  n=n-1\n",
        "  # hidden layers\n",
        "  while(n>0):\n",
        "    # print(n)\n",
        "    a=[]\n",
        "    for j in range(len(layer_inputs[n])):\n",
        "      z=0\n",
        "      for s in range(len(layer_inputs[n+1])):\n",
        "        z+=delta[s]*w[n][j][s]\n",
        "      a.append(z)\n",
        "    a=np.array(a)\n",
        "    l=layer_inputs[n]\n",
        "    l1=layer_inputs[n-1]\n",
        "    b=l*(1-l)\n",
        "    delta=a*b\n",
        "    k=delta\n",
        "    W=w[n-1]\n",
        "    dj_w=np.zeros_like(W)\n",
        "    m,n1=W.shape\n",
        "    # for i in range(0,m):\n",
        "    #   for j in range(0,n1):\n",
        "    #     dj_w[i][j]=k[j]*l1[i]+W[i][j]\n",
        "    l1_n=np.reshape(l1,(m,1))\n",
        "    k_n=np.reshape(k,(n1,1))\n",
        "    # dj_w=np.dot(l1_n,k_n.T)+W #L2 regularizer\n",
        "    k=W.copy()\n",
        "    k[k>0]=1\n",
        "    k[k<0]=-1\n",
        "    dj_w=np.dot(l1_n,k_n.T)+k #L1 regularizer\n",
        "    lambda1=0.001\n",
        "    W=W-(lambda1*dj_w)\n",
        "    w_new[n-1]=W\n",
        "    n=n-1\n",
        "  return w_new\n",
        "\n",
        "\n",
        "\n"
      ]
    },
    {
      "cell_type": "code",
      "execution_count": null,
      "metadata": {
        "id": "juIPqlc_zwmt"
      },
      "outputs": [],
      "source": [
        "def onehotencoding(a):\n",
        "  if a==0:\n",
        "    return np.array([1,0])\n",
        "  else:\n",
        "    return np.array([0,1])"
      ]
    },
    {
      "cell_type": "code",
      "execution_count": null,
      "metadata": {
        "colab": {
          "background_save": true,
          "base_uri": "https://localhost:8080/"
        },
        "id": "EQrNDvDPnDf-",
        "outputId": "1b16f757-4def-4f91-8dc4-cb7ab81c394d"
      },
      "outputs": [
        {
          "name": "stdout",
          "output_type": "stream",
          "text": [
            "0\n",
            "1\n",
            "2\n",
            "3\n",
            "4\n",
            "5\n",
            "6\n",
            "7\n",
            "8\n",
            "9\n"
          ]
        }
      ],
      "source": [
        "w=[]\n",
        "l=3\n",
        "nodes_list=[785,785,2]\n",
        "for i in range(len(nodes_list)-1):\n",
        "  w.append(np.random.randn(nodes_list[i],nodes_list[i+1]))\n",
        "epochs = 10\n",
        "train_loss=[]\n",
        "test_loss=[]\n",
        "weights=[]\n",
        "for i in range(epochs):\n",
        "  for j in range(len(X_train)):\n",
        "    Y = onehotencoding(Y_train[j])\n",
        "    layer_inputs = forward_prop(X_train[j],w,l)\n",
        "    w = backward_prop(layer_inputs,w,Y)\n",
        "  ypred=predict_proba(w,X_train,l)\n",
        "  train_loss.append(logloss(Y_train,ypred))\n",
        "  ypred=predict_proba(w,X_test,l)\n",
        "  test_loss.append(logloss(Y_test,ypred))\n",
        "  weights.append(w)\n",
        "  print(i)\n",
        "w=weights[np.argmin(test_loss)]\n"
      ]
    },
    {
      "cell_type": "code",
      "execution_count": null,
      "metadata": {
        "colab": {
          "background_save": true
        },
        "id": "sqAiy2Zu8qP_"
      },
      "outputs": [],
      "source": [
        "def accuracy(y_test,y_pred):\n",
        "  count =0\n",
        "  for i in range(len(y_pred)):\n",
        "    if y_pred[i]==y_test[i]:\n",
        "      count+=1\n",
        "  accuracy = count*100/len(y_pred)\n",
        "  return accuracy"
      ]
    },
    {
      "cell_type": "code",
      "execution_count": null,
      "metadata": {
        "colab": {
          "background_save": true
        },
        "id": "QA6NtrRO9Iyt"
      },
      "outputs": [],
      "source": [
        "def predict(w,x,l):\n",
        "  y=forward_prop(x,w,l)[2]\n",
        "  max1=y[0]\n",
        "  if(max1<y[1]):\n",
        "    max1=1\n",
        "  else:\n",
        "    max1=0\n",
        "  return max1"
      ]
    },
    {
      "cell_type": "code",
      "execution_count": null,
      "metadata": {
        "colab": {
          "background_save": true
        },
        "id": "zaAQXjhC9LWq"
      },
      "outputs": [],
      "source": [
        "y_pred=[]\n",
        "for i in range(len(X_test)):\n",
        "  y_pred.append(predict(w,X_test[i],l))\n",
        "acc=accuracy(Y_test,y_pred)"
      ]
    },
    {
      "cell_type": "code",
      "execution_count": null,
      "metadata": {
        "colab": {
          "background_save": true
        },
        "id": "DEykfun7ieMV",
        "outputId": "fd193d00-a329-4f7f-b806-47d14fb328c7"
      },
      "outputs": [
        {
          "name": "stdout",
          "output_type": "stream",
          "text": [
            "62.5\n"
          ]
        }
      ],
      "source": [
        "print(acc)"
      ]
    },
    {
      "cell_type": "code",
      "execution_count": null,
      "metadata": {
        "colab": {
          "background_save": true
        },
        "id": "fqRb5PGu-K96"
      },
      "outputs": [],
      "source": [
        "y_pred=[]\n",
        "for i in range(len(X_val)):\n",
        "  y_pred.append(predict(w,X_val[i],l))\n",
        "acc=accuracy(Y_val,y_pred)"
      ]
    },
    {
      "cell_type": "code",
      "execution_count": null,
      "metadata": {
        "colab": {
          "background_save": true
        },
        "id": "FytjfpdJ-gJY",
        "outputId": "f331afce-3eda-40cb-9865-1053fe93b464"
      },
      "outputs": [
        {
          "name": "stdout",
          "output_type": "stream",
          "text": [
            "74.23664122137404\n"
          ]
        }
      ],
      "source": [
        "print(acc)"
      ]
    },
    {
      "cell_type": "code",
      "execution_count": null,
      "metadata": {
        "colab": {
          "background_save": true
        },
        "id": "RzaDR2hTphrE",
        "outputId": "54e24ef4-6992-4976-a99c-130c44e68d10"
      },
      "outputs": [
        {
          "name": "stdout",
          "output_type": "stream",
          "text": [
            "74.21410365335599\n"
          ]
        }
      ],
      "source": [
        "y_pred=[]\n",
        "for i in range(len(X_train)):\n",
        "  y_pred.append(predict(w,X_train[i],l))\n",
        "acc=accuracy(Y_train,y_pred)\n",
        "print(acc)"
      ]
    },
    {
      "cell_type": "code",
      "execution_count": null,
      "metadata": {
        "colab": {
          "background_save": true
        },
        "id": "LZ8pEuK5_NHu"
      },
      "outputs": [],
      "source": [
        "# np.savetxt(\"sample1.txt\", w[1], delimiter =\", \")"
      ]
    },
    {
      "cell_type": "code",
      "execution_count": null,
      "metadata": {
        "colab": {
          "background_save": true
        },
        "id": "JZTCWnG7arGI",
        "outputId": "ca839f09-1fae-4ce8-a3e2-5c280c0298e0"
      },
      "outputs": [
        {
          "data": {
            "text/plain": [
              "Text(0, 0.5, 'train loss')"
            ]
          },
          "execution_count": null,
          "metadata": {},
          "output_type": "execute_result"
        },
        {
          "data": {
            "image/png": "[encoded data removed]",
            "text/plain": [
              "<Figure size 432x288 with 1 Axes>"
            ]
          },
          "metadata": {},
          "output_type": "display_data"
        }
      ],
      "source": [
        "import matplotlib.pyplot as plt\n",
        "epochs_list=[i for i in range(1,len(train_loss)+1)]\n",
        "fig,ax=plt.subplots()\n",
        "ax.plot(epochs_list,train_loss,'b-')\n",
        "ax.set_xlabel(\"epochs\")\n",
        "ax.set_ylabel(\"train loss\")"
      ]
    },
    {
      "cell_type": "code",
      "execution_count": null,
      "metadata": {
        "colab": {
          "background_save": true
        },
        "id": "viqhImQ7iJSN",
        "outputId": "d3883eb5-66b9-4811-f9c1-cdffef09fdca"
      },
      "outputs": [
        {
          "data": {
            "text/plain": [
              "Text(0, 0.5, 'test loss')"
            ]
          },
          "execution_count": null,
          "metadata": {},
          "output_type": "execute_result"
        },
        {
          "data": {
            "image/png": "[encoded data removed]",
            "text/plain": [
              "<Figure size 432x288 with 1 Axes>"
            ]
          },
          "metadata": {},
          "output_type": "display_data"
        }
      ],
      "source": [
        "import matplotlib.pyplot as plt\n",
        "epochs_list=[i for i in range(1,len(test_loss)+1)]\n",
        "fig,ax=plt.subplots()\n",
        "ax.plot(epochs_list,test_loss,'g-')\n",
        "ax.set_xlabel(\"epochs\")\n",
        "ax.set_ylabel(\"test loss\")\n"
      ]
    },
    {
      "cell_type": "code",
      "execution_count": null,
      "metadata": {
        "colab": {
          "background_save": true
        },
        "id": "dMoHtRJ5tIjU"
      },
      "outputs": [],
      "source": []
    },
    {
      "cell_type": "code",
      "execution_count": null,
      "metadata": {
        "colab": {
          "background_save": true
        },
        "id": "kPAHzpU5m_pE"
      },
      "outputs": [],
      "source": [
        "def get(y_test,y_pred):\n",
        "  # # check len(y_pred) and len(y_test) matching are not:\n",
        "  # if (len(y_test)!=len(y_pred)):\n",
        "  #   print('Invalid lengths of y_test and y_pred\\n')\n",
        "  #   return;\n",
        "  true_pos=0\n",
        "  true_neg=0\n",
        "  false_pos=0\n",
        "  false_neg = 0\n",
        "\n",
        "  for i in range(len(y_pred)):\n",
        "    if(y_test[i]==1 and y_pred[i]==1):\n",
        "      true_pos +=1\n",
        "    elif(y_test[i]==0 and y_pred[i]==0):\n",
        "      true_neg +=1\n",
        "    elif(y_test[i]==0 and y_pred[i]==1):\n",
        "      false_pos +=1\n",
        "    elif(y_test[i]==1 and y_pred[i]==0):\n",
        "      false_neg +=1\n",
        "  \n",
        "  return true_pos,true_neg,false_pos,false_neg"
      ]
    },
    {
      "cell_type": "code",
      "execution_count": null,
      "metadata": {
        "colab": {
          "background_save": true
        },
        "id": "v7Tsg9Q9m_bj"
      },
      "outputs": [],
      "source": [
        "def tpr(y_test,y_pred):\n",
        "  tp,tn,fp,fn = get(y_test,y_pred)\n",
        "  tpr = tp/(tp+fn)\n",
        "  return tpr\n",
        "\n",
        "def fpr(y_test,y_pred):\n",
        "  tp,tn,fp,fn = get(y_test,y_pred)\n",
        "  fpr = fp/(fp+tn)\n",
        "  return fpr"
      ]
    },
    {
      "cell_type": "code",
      "execution_count": null,
      "metadata": {
        "colab": {
          "background_save": true
        },
        "id": "tfPggcAOm_X_"
      },
      "outputs": [],
      "source": [
        "from sklearn import metrics\n",
        "def ROC_AUC(y_test,y_pred):\n",
        "  # tpr vs fpr plot is ROC\n",
        "  tpr_list = []\n",
        "  fpr_list=[]\n",
        "  # y_pred = y_pred.sort()\n",
        "  y_pred = np.array(y_pred)\n",
        "  for thresh in np.arange(0,1.1,0.1):\n",
        "    a = np.where(y_pred>=thresh,1,0)\n",
        "    tpr_list.append(tpr(y_test,a))\n",
        "    fpr_list.append(fpr(y_test,a))\n",
        "\n",
        "  plt.plot(fpr_list,tpr_list,'b',lw=2)\n",
        "  # plt.plot([0, 1], [0, 1], 'k-', lw=2)\n",
        "  plt.xlabel('False Positive Rate')\n",
        "  plt.ylabel('True Positive Rate')\n",
        "  plt.title('ROC Curve')\n",
        "  plt.xlim([0, 1])\n",
        "  plt.ylim([0, 1])\n",
        "  plt.show()\n",
        "  # print(tpr_list)\n",
        "  # print(fpr_list)\n",
        "  y_pred = np.where(y_pred>=0.5,1,0)\n",
        "  #We use Trapezoidal rule to calculate the area under the curve and approximating the intergral  \n",
        "  # auc = sum(np.trapz(tpr_list,fpr_list))+1\n",
        "  return metrics.roc_auc_score(y_test, y_pred)"
      ]
    },
    {
      "cell_type": "code",
      "execution_count": null,
      "metadata": {
        "colab": {
          "background_save": true
        },
        "id": "pxTr2eIim_Bt"
      },
      "outputs": [],
      "source": [
        "def confusion_matrix(y_test,y_pred):\n",
        "  m = np.unique(y_test)\n",
        "  y_pred = np.array(y_pred)\n",
        "  y_pred = np.where(y_pred>=0.5,1,0)\n",
        "  tp,tn,fp,fn = get(y_test,y_pred)\n",
        "  confusion_mat = np.array([tp,fp,fn,tn]).reshape(2,2)\n",
        "  confusion_mat = pd.DataFrame(confusion_mat, columns = ['actual_pos','actual_neg'], index = ['pred_pos', 'pred_neg'])\n",
        "  return confusion_mat\n",
        "\n",
        "def f1_score(y_test,y_pred):\n",
        "  #  # check len(y_pred) and len(y_test) matching are not:\n",
        "  # if (len(y_test)!=len(y_pred)):\n",
        "  #   print('Invalid lengths of y_test and y_pred\\n')\n",
        "  #   return;\n",
        "  y_pred = np.array(y_pred)\n",
        "  y_pred = np.where(y_pred>=0.5,1,0)\n",
        "  true_pos=0\n",
        "  true_neg=0\n",
        "  false_pos=0\n",
        "  false_neg = 0\n",
        "  for i in range(len(y_pred)):\n",
        "    if(y_test[i]==[1] and y_pred[i]==1):\n",
        "      true_pos +=1\n",
        "    elif(y_test[i]==[0] and y_pred[i]==0):\n",
        "      true_neg +=1\n",
        "    elif(y_test[i]==[0] and y_pred[i]==1):\n",
        "      false_pos +=1\n",
        "    elif(y_test[i]==[1] and y_pred[i]==0):\n",
        "      false_neg +=1\n",
        "\n",
        "  recall  = true_pos/(true_pos+false_neg)\n",
        "  precision = true_pos/(true_pos+false_pos)\n",
        "  f1_score = (2*precision*recall)/(precision+recall)\n",
        "\n",
        "  return f1_score"
      ]
    },
    {
      "cell_type": "code",
      "execution_count": null,
      "metadata": {
        "colab": {
          "background_save": true
        },
        "id": "60RqKCzVm_QZ"
      },
      "outputs": [],
      "source": [
        "y_pred=[]\n",
        "for i in range(len(X_test)):\n",
        "  y_pred.append(predict(w,X_test[i],l))\n",
        "acc=accuracy(Y_test,y_pred)"
      ]
    },
    {
      "cell_type": "code",
      "execution_count": null,
      "metadata": {
        "colab": {
          "background_save": true
        },
        "id": "KF_BRJwhpzTx"
      },
      "outputs": [],
      "source": []
    },
    {
      "cell_type": "code",
      "execution_count": null,
      "metadata": {
        "colab": {
          "background_save": true
        },
        "id": "PbJtDei4qBsu",
        "outputId": "2246f98b-b1d9-4d9d-e976-faed2f546dbf"
      },
      "outputs": [
        {
          "data": {
            "image/png": "[encoded data removed]",
            "text/plain": [
              "<Figure size 432x288 with 1 Axes>"
            ]
          },
          "metadata": {},
          "output_type": "display_data"
        },
        {
          "name": "stdout",
          "output_type": "stream",
          "text": [
            "0.5\n"
          ]
        }
      ],
      "source": [
        "print(ROC_AUC(Y_test,y_pred))"
      ]
    },
    {
      "cell_type": "code",
      "execution_count": null,
      "metadata": {
        "colab": {
          "background_save": true
        },
        "id": "BpV12VcLqK2F",
        "outputId": "eb0d6a35-f43e-43b0-c123-ecff8c2c6750"
      },
      "outputs": [
        {
          "name": "stdout",
          "output_type": "stream",
          "text": [
            "0.7692307692307693\n"
          ]
        }
      ],
      "source": [
        "print(f1_score(Y_test,y_pred))"
      ]
    },
    {
      "cell_type": "code",
      "execution_count": null,
      "metadata": {
        "colab": {
          "background_save": true
        },
        "id": "b_OlIHv2z_0u",
        "outputId": "6838a8d4-ecaf-4303-b4f4-fa63cd6bdd4b"
      },
      "outputs": [
        {
          "name": "stdout",
          "output_type": "stream",
          "text": [
            "62.5\n"
          ]
        }
      ],
      "source": [
        "print(acc)"
      ]
    }
  ],
  "metadata": {
    "colab": {
      "provenance": []
    },
    "kernelspec": {
      "display_name": "Python 3",
      "name": "python3"
    },
    "language_info": {
      "name": "python"
    }
  },
  "nbformat": 4,
  "nbformat_minor": 0
}