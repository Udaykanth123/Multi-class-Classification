{
  "cells": [
    {
      "cell_type": "code",
      "execution_count": null,
      "metadata": {
        "id": "0w2xgIyDtvwA"
      },
      "outputs": [],
      "source": []
    },
    {
      "cell_type": "code",
      "execution_count": null,
      "metadata": {
        "id": "uLNjhPKuZMmk"
      },
      "outputs": [],
      "source": [
        "import numpy as np\n",
        "import pandas as pd\n",
        "from sklearn.datasets import make_classification\n",
        "from sklearn.model_selection import train_test_split\n",
        "import math\n",
        "from sklearn.metrics import accuracy_score\n",
        "import random\n",
        "import statistics\n",
        "import skimage.io\n",
        "import skimage.color\n"
      ]
    },
    {
      "cell_type": "code",
      "execution_count": null,
      "metadata": {
        "id": "JerU5LX3cBd4"
      },
      "outputs": [],
      "source": [
        "def transform(x):\n",
        "  x=(x-np.mean(x,axis=0))/np.std(x,axis=0)\n",
        "  #print(x.shape)\n",
        "  return x"
      ]
    },
    {
      "cell_type": "code",
      "execution_count": null,
      "metadata": {
        "colab": {
          "base_uri": "https://localhost:8080/"
        },
        "id": "akapk-xXZujF",
        "outputId": "5119c5f2-c3c2-4a9e-a877-0fcd3de661bb"
      },
      "outputs": [
        {
          "name": "stdout",
          "output_type": "stream",
          "text": [
            "(11959, 28, 28)\n"
          ]
        }
      ],
      "source": [
        "# X, y = make_classification(n_samples=50000, n_features=20, n_informative=10, n_redundant=5,\n",
        "#                            n_classes=2, weights=[0.7], class_sep=0.6, random_state=15)\n",
        "b = np.load('/content/drive/MyDrive/bloodmnist.npz')\n",
        "train_images=b['train_images']\n",
        "val_images=b['val_images']\n",
        "test_images=b['test_images']\n",
        "Y_train=b['train_labels']\n",
        "Y_test=b['val_labels']\n",
        "Y_val=b['test_labels']\n",
        "train_image=[]\n",
        "test_image=[]\n",
        "val_image=[]\n",
        "for i in range(len(train_images)):\n",
        "  train_image.append(skimage.color.rgb2gray(train_images[i]))\n",
        "for i in range(len(test_images)):\n",
        "  test_image.append(skimage.color.rgb2gray(test_images[i]))\n",
        "for i in range(len(val_images)):\n",
        "  val_image.append(skimage.color.rgb2gray(val_images[i]))\n",
        "train_image=np.array(train_image)\n",
        "test_image=np.array(test_image)\n",
        "val_image=np.array(val_image)\n",
        "print(train_image.shape) \n",
        "X_train= train_image.reshape((train_images.shape[0],784))\n",
        "X_val= test_image.reshape((test_images.shape[0],784))\n",
        "X_test= val_image.reshape((val_images.shape[0],784))\n",
        "X_train=transform(X_train)\n",
        "X_val=transform(X_val)\n",
        "X_test=transform(X_test)\n",
        "# train_data=np.hstack((train_images,X_train))\n",
        "# test_data=np.hstack((test_images,X_test))\n",
        "# val_data=np.hstack((val_images,X_val))\n",
        "X_train = np.hstack((X_train,np.ones(X_train.shape[0]).reshape((X_train.shape[0],1))))\n",
        "X_test = np.hstack((X_test,np.ones(X_test.shape[0]).reshape((X_test.shape[0],1))))\n",
        "X_val = np.hstack((X_val,np.ones(X_val.shape[0]).reshape((X_val.shape[0],1))))"
      ]
    },
    {
      "cell_type": "code",
      "execution_count": null,
      "metadata": {
        "id": "uB2C2UvAtv7R"
      },
      "outputs": [],
      "source": [
        "def sigmoidp(z):\n",
        "  return 1/(1 + np.exp(-z))\n",
        "def sigmoidn(z):\n",
        "  return 1 - 1/(1 + np.exp(z))\n"
      ]
    },
    {
      "cell_type": "code",
      "execution_count": null,
      "metadata": {
        "id": "PrfgtYoCcIMj"
      },
      "outputs": [],
      "source": [
        "def sigmoid(z):\n",
        "  z[np.where(z>=0)]=sigmoidp(z[np.where(z>=0)])\n",
        "  z[np.where(z<0)]=sigmoidn(z[np.where(z<0)])\n",
        "  return z\n"
      ]
    },
    {
      "cell_type": "code",
      "execution_count": null,
      "metadata": {
        "id": "j3xMU5RjV36s"
      },
      "outputs": [],
      "source": []
    },
    {
      "cell_type": "code",
      "execution_count": null,
      "metadata": {
        "id": "pSxYNR06gcEJ"
      },
      "outputs": [],
      "source": [
        "def grad_sigmoid(z):\n",
        "  return sigmoid(z)*(1-sigmoid(z))"
      ]
    },
    {
      "cell_type": "code",
      "execution_count": null,
      "metadata": {
        "id": "zZS2TfNg1eGY"
      },
      "outputs": [],
      "source": [
        "def softmax(a):\n",
        "  a=np.exp(a)\n",
        "  return a/sum(a)"
      ]
    },
    {
      "cell_type": "code",
      "execution_count": null,
      "metadata": {
        "id": "TmQZxzYvcvS0"
      },
      "outputs": [],
      "source": [
        "def forward_prop(X,w,l):\n",
        "  x=X\n",
        "  layer_inputs=[]\n",
        "  layer_inputs.append(x)\n",
        "  for i in range(1,l-1): #l is no. of layers \n",
        "    x1=sigmoid(np.dot(w[i-1].T,x)) # add one to each x\n",
        "    # for j in range(len(x1)):\n",
        "    #   x1[j]=sigmoid(x1[j])\n",
        "    #x1=transform(x1)\n",
        "    layer_inputs.append(x1)\n",
        "    x=x1\n",
        "  layer_inputs.append(softmax(np.dot(w[l-2].T,x)))\n",
        "  return layer_inputs\n",
        "  \n",
        "\n"
      ]
    },
    {
      "cell_type": "code",
      "execution_count": null,
      "metadata": {
        "id": "ZD8Mj21MgC9Y"
      },
      "outputs": [],
      "source": [
        "def backward_prop(layer_inputs,w,Y):\n",
        "  #last layer\n",
        "  n=len(layer_inputs)-1\n",
        "  w_new=w.copy()\n",
        "  l=layer_inputs[-1]\n",
        "  l1=layer_inputs[-2]\n",
        "  W=w[-1]\n",
        "  # k=(l-Y)*l*(1-l)\n",
        "  k=l-Y\n",
        "  # print(k.shape)\n",
        "  delta=k\n",
        "  dj_w=np.zeros_like(W)\n",
        "  m,n1=W.shape\n",
        "  # for i in range(0,m):\n",
        "  #   for j in range(0,n1):\n",
        "  #     # print(k[j])\n",
        "  #     dj_w[i][j]=k[j]*l1[i]\n",
        "  l1_n=np.reshape(l1,(m,1))\n",
        "  k_n=np.reshape(k,(n1,1))\n",
        "  dj_w=np.dot(l1_n,k_n.T)\n",
        "  lambda1=0.001\n",
        "  W=W-(lambda1*dj_w)\n",
        "  w_new[-1]=W\n",
        "  n=n-1\n",
        "  # hidden layers\n",
        "  while(n>0):\n",
        "    # print(n)\n",
        "    a=[]\n",
        "    for j in range(len(layer_inputs[n])):\n",
        "      z=0\n",
        "      # for s in range(len(layer_inputs[n+1])):\n",
        "      #   z+=delta[s]*w[n][j][s]\n",
        "      z=np.sum(delta*w[n][j])\n",
        "      a.append(z)\n",
        "    a=np.array(a)\n",
        "    l=layer_inputs[n]\n",
        "    l1=layer_inputs[n-1]\n",
        "    b=l*(1-l)\n",
        "    delta=a*b\n",
        "    k=delta\n",
        "    W=w[n-1]\n",
        "    dj_w=np.zeros_like(W)\n",
        "    m,n1=W.shape\n",
        "    # for i in range(0,m):\n",
        "    #   for j in range(0,n1):\n",
        "    #     dj_w[i][j]=k[j]*l1[i]\n",
        "    l1_n=np.reshape(l1,(m,1))\n",
        "    k_n=np.reshape(k,(n1,1))\n",
        "    dj_w=np.dot(l1_n,k_n.T)\n",
        "    lambda1=0.001\n",
        "    W=W-(lambda1*dj_w)\n",
        "    w_new[n-1]=W\n",
        "    n=n-1\n",
        "  return w_new\n",
        "\n",
        "\n",
        "\n"
      ]
    },
    {
      "cell_type": "code",
      "execution_count": null,
      "metadata": {
        "id": "juIPqlc_zwmt"
      },
      "outputs": [],
      "source": [
        "def onehotencoding(a,max1):\n",
        "  z=np.zeros(max1+1)\n",
        "  z[a]=1\n",
        "  return z"
      ]
    },
    {
      "cell_type": "code",
      "execution_count": null,
      "metadata": {
        "colab": {
          "background_save": true
        },
        "id": "EQrNDvDPnDf-"
      },
      "outputs": [],
      "source": [
        "w=[]\n",
        "l=3\n",
        "max_classes=int(max(Y_train))\n",
        "nodes_list=[785,785,max_classes+1]\n",
        "for i in range(len(nodes_list)-1):\n",
        "  w.append(np.random.randn(nodes_list[i],nodes_list[i+1]))\n",
        "epochs = 10\n",
        "\n",
        "for i in range(epochs):\n",
        "  for j in range(len(X_train)):\n",
        "    Y = onehotencoding(Y_train[j],max_classes)\n",
        "    layer_inputs = forward_prop(X_train[j],w,l)\n",
        "    w = backward_prop(layer_inputs,w,Y)"
      ]
    },
    {
      "cell_type": "code",
      "execution_count": null,
      "metadata": {
        "colab": {
          "background_save": true
        },
        "id": "sqAiy2Zu8qP_"
      },
      "outputs": [],
      "source": [
        "def accuracy(y_test,y_pred):\n",
        "  count =0\n",
        "  for i in range(len(y_pred)):\n",
        "    if y_pred[i]==y_test[i]:\n",
        "      count+=1\n",
        "  accuracy = count*100/len(y_pred)\n",
        "  return accuracy"
      ]
    },
    {
      "cell_type": "code",
      "execution_count": null,
      "metadata": {
        "colab": {
          "background_save": true
        },
        "id": "QA6NtrRO9Iyt"
      },
      "outputs": [],
      "source": [
        "def predict(w,x,l):\n",
        "  y=forward_prop(x,w,l)[-1]\n",
        "  return np.argmax(y)"
      ]
    },
    {
      "cell_type": "code",
      "execution_count": null,
      "metadata": {
        "colab": {
          "background_save": true
        },
        "id": "zaAQXjhC9LWq"
      },
      "outputs": [],
      "source": [
        "y_pred=[]\n",
        "for i in range(len(X_test)):\n",
        "  y_pred.append(predict(w,X_test[i],l))\n",
        "acc=accuracy(Y_test,y_pred)"
      ]
    },
    {
      "cell_type": "code",
      "execution_count": null,
      "metadata": {
        "colab": {
          "background_save": true
        },
        "id": "DEykfun7ieMV",
        "outputId": "ccea2b00-209c-43db-93c2-fc746951619e"
      },
      "outputs": [
        {
          "name": "stdout",
          "output_type": "stream",
          "text": [
            "54.55607476635514\n"
          ]
        }
      ],
      "source": [
        "print(acc)"
      ]
    },
    {
      "cell_type": "code",
      "execution_count": null,
      "metadata": {
        "colab": {
          "background_save": true
        },
        "id": "fqRb5PGu-K96"
      },
      "outputs": [],
      "source": [
        "y_pred=[]\n",
        "for i in range(len(X_val)):\n",
        "  y_pred.append(predict(w,X_val[i],l))\n",
        "acc=accuracy(Y_val,y_pred)"
      ]
    },
    {
      "cell_type": "code",
      "execution_count": null,
      "metadata": {
        "colab": {
          "background_save": true
        },
        "id": "FytjfpdJ-gJY",
        "outputId": "40f092cf-7925-4222-8da1-ca209e7459cc"
      },
      "outputs": [
        {
          "name": "stdout",
          "output_type": "stream",
          "text": [
            "54.866997953814675\n"
          ]
        }
      ],
      "source": [
        "print(acc)"
      ]
    },
    {
      "cell_type": "code",
      "execution_count": null,
      "metadata": {
        "colab": {
          "background_save": true
        },
        "id": "RzaDR2hTphrE",
        "outputId": "26763959-e0fb-4953-aad7-9dd737f7ceae"
      },
      "outputs": [
        {
          "name": "stdout",
          "output_type": "stream",
          "text": [
            "80.75926080775984\n"
          ]
        }
      ],
      "source": [
        "y_pred=[]\n",
        "for i in range(len(X_train)):\n",
        "  y_pred.append(predict(w,X_train[i],l))\n",
        "acc=accuracy(Y_train,y_pred)\n",
        "print(acc)"
      ]
    },
    {
      "cell_type": "code",
      "execution_count": null,
      "metadata": {
        "colab": {
          "background_save": true
        },
        "id": "LZ8pEuK5_NHu"
      },
      "outputs": [],
      "source": [
        "# np.savetxt(\"sample1.txt\", w[1], delimiter =\", \")"
      ]
    }
  ],
  "metadata": {
    "colab": {
      "provenance": []
    },
    "kernelspec": {
      "display_name": "Python 3",
      "name": "python3"
    },
    "language_info": {
      "name": "python"
    }
  },
  "nbformat": 4,
  "nbformat_minor": 0
}